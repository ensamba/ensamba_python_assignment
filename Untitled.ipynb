{
 "cells": [
  {
   "cell_type": "code",
   "execution_count": 1,
   "metadata": {},
   "outputs": [
    {
     "data": {
      "text/plain": [
       "'/Users/ensamba/BCB546X-Fall2017/Python_Assignment/ensamba_python_assignment'"
      ]
     },
     "execution_count": 1,
     "metadata": {},
     "output_type": "execute_result"
    }
   ],
   "source": [
    "pwd"
   ]
  },
  {
   "cell_type": "code",
   "execution_count": 2,
   "metadata": {},
   "outputs": [
    {
     "name": "stdout",
     "output_type": "stream",
     "text": [
      "/Users/ensamba/BCB546X-Fall2017/Python_Assignment\n"
     ]
    }
   ],
   "source": [
    "cd .."
   ]
  },
  {
   "cell_type": "code",
   "execution_count": 3,
   "metadata": {},
   "outputs": [
    {
     "name": "stdout",
     "output_type": "stream",
     "text": [
      "/Users/ensamba/BCB546X-Fall2017\n"
     ]
    }
   ],
   "source": [
    "cd .."
   ]
  },
  {
   "cell_type": "code",
   "execution_count": 4,
   "metadata": {},
   "outputs": [
    {
     "name": "stdout",
     "output_type": "stream",
     "text": [
      "BCB 546X - Fall Syllabus 2017.pdf  \u001b[34mWeek_05\u001b[m\u001b[m/\r\n",
      "\u001b[34mFinal_Group_Project\u001b[m\u001b[m/               \u001b[34mWeek_07\u001b[m\u001b[m/\r\n",
      "\u001b[34mPython_Assignment\u001b[m\u001b[m/                 \u001b[34mWeek_08\u001b[m\u001b[m/\r\n",
      "README.md                          \u001b[34mWeek_09\u001b[m\u001b[m/\r\n",
      "\u001b[34mR_Assignment\u001b[m\u001b[m/                      _config.yml\r\n",
      "\u001b[34mR_class\u001b[m\u001b[m/                           \u001b[34mensamba_R_Assignment\u001b[m\u001b[m/\r\n",
      "\u001b[34mUNIX_Assignment\u001b[m\u001b[m/                   install.md\r\n",
      "\u001b[34mWeek_01\u001b[m\u001b[m/                           \u001b[34mpython-bcb546\u001b[m\u001b[m/\r\n",
      "\u001b[34mWeek_02\u001b[m\u001b[m/                           vi_tutorial.html\r\n",
      "\u001b[34mWeek_03\u001b[m\u001b[m/                           vi_tutorial.pdf\r\n",
      "\u001b[34mWeek_04\u001b[m\u001b[m/\r\n"
     ]
    }
   ],
   "source": [
    "ls"
   ]
  },
  {
   "cell_type": "code",
   "execution_count": 5,
   "metadata": {},
   "outputs": [
    {
     "name": "stdout",
     "output_type": "stream",
     "text": [
      "/Users/ensamba/BCB546X-Fall2017/ensamba_R_Assignment\n"
     ]
    }
   ],
   "source": [
    "cd ensamba_R_Assignment/"
   ]
  },
  {
   "cell_type": "code",
   "execution_count": 6,
   "metadata": {},
   "outputs": [
    {
     "name": "stdout",
     "output_type": "stream",
     "text": [
      "README.md     \u001b[34mR_Assignment\u001b[m\u001b[m/\r\n"
     ]
    }
   ],
   "source": [
    "ls"
   ]
  },
  {
   "cell_type": "code",
   "execution_count": 7,
   "metadata": {},
   "outputs": [
    {
     "name": "stdout",
     "output_type": "stream",
     "text": [
      "/Users/ensamba/BCB546X-Fall2017/ensamba_R_Assignment/R_Assignment\n"
     ]
    }
   ],
   "source": [
    "cd R_Assignment/"
   ]
  },
  {
   "cell_type": "code",
   "execution_count": 8,
   "metadata": {
    "collapsed": true
   },
   "outputs": [],
   "source": [
    "ls"
   ]
  },
  {
   "cell_type": "code",
   "execution_count": 9,
   "metadata": {
    "collapsed": true
   },
   "outputs": [],
   "source": [
    "ls"
   ]
  },
  {
   "cell_type": "code",
   "execution_count": 10,
   "metadata": {},
   "outputs": [
    {
     "name": "stdout",
     "output_type": "stream",
     "text": [
      "/Users/ensamba/BCB546X-Fall2017/ensamba_R_Assignment\n"
     ]
    }
   ],
   "source": [
    "cd .."
   ]
  },
  {
   "cell_type": "code",
   "execution_count": 11,
   "metadata": {},
   "outputs": [
    {
     "name": "stdout",
     "output_type": "stream",
     "text": [
      "/Users/ensamba\n"
     ]
    }
   ],
   "source": [
    "cd ../..\n"
   ]
  },
  {
   "cell_type": "code",
   "execution_count": 12,
   "metadata": {},
   "outputs": [
    {
     "name": "stdout",
     "output_type": "stream",
     "text": [
      "\u001b[34mApplications\u001b[m\u001b[m/               Pandas-lesson-01-TAH.ipynb\r\n",
      "\u001b[34mBCB546X-Fall2017\u001b[m\u001b[m/           \u001b[34mPictures\u001b[m\u001b[m/\r\n",
      "\u001b[34mDesktop\u001b[m\u001b[m/                    \u001b[34mPublic\u001b[m\u001b[m/\r\n",
      "\u001b[34mDocuments\u001b[m\u001b[m/                  Untitled.txt\r\n",
      "\u001b[34mDownloads\u001b[m\u001b[m/                  \u001b[34manaconda3\u001b[m\u001b[m/\r\n",
      "\u001b[34mLibrary\u001b[m\u001b[m/                    \u001b[34mbds-files\u001b[m\u001b[m/\r\n",
      "Mary                        config\r\n",
      "\u001b[34mMary.txt\u001b[m\u001b[m/                   pslog.txt\r\n",
      "\u001b[34mMovies\u001b[m\u001b[m/                     ~.Rproj\r\n",
      "\u001b[34mMusic\u001b[m\u001b[m/\r\n"
     ]
    }
   ],
   "source": [
    "ls"
   ]
  },
  {
   "cell_type": "code",
   "execution_count": 13,
   "metadata": {},
   "outputs": [
    {
     "name": "stdout",
     "output_type": "stream",
     "text": [
      "/Users/ensamba/BCB546X-Fall2017\n"
     ]
    }
   ],
   "source": [
    "cd BCB546X-Fall2017/"
   ]
  },
  {
   "cell_type": "code",
   "execution_count": 14,
   "metadata": {},
   "outputs": [
    {
     "name": "stdout",
     "output_type": "stream",
     "text": [
      "BCB 546X - Fall Syllabus 2017.pdf  \u001b[34mWeek_05\u001b[m\u001b[m/\r\n",
      "\u001b[34mFinal_Group_Project\u001b[m\u001b[m/               \u001b[34mWeek_07\u001b[m\u001b[m/\r\n",
      "\u001b[34mPython_Assignment\u001b[m\u001b[m/                 \u001b[34mWeek_08\u001b[m\u001b[m/\r\n",
      "README.md                          \u001b[34mWeek_09\u001b[m\u001b[m/\r\n",
      "\u001b[34mR_Assignment\u001b[m\u001b[m/                      _config.yml\r\n",
      "\u001b[34mR_class\u001b[m\u001b[m/                           \u001b[34mensamba_R_Assignment\u001b[m\u001b[m/\r\n",
      "\u001b[34mUNIX_Assignment\u001b[m\u001b[m/                   install.md\r\n",
      "\u001b[34mWeek_01\u001b[m\u001b[m/                           \u001b[34mpython-bcb546\u001b[m\u001b[m/\r\n",
      "\u001b[34mWeek_02\u001b[m\u001b[m/                           vi_tutorial.html\r\n",
      "\u001b[34mWeek_03\u001b[m\u001b[m/                           vi_tutorial.pdf\r\n",
      "\u001b[34mWeek_04\u001b[m\u001b[m/\r\n"
     ]
    }
   ],
   "source": [
    "ls"
   ]
  },
  {
   "cell_type": "code",
   "execution_count": 15,
   "metadata": {},
   "outputs": [
    {
     "name": "stdout",
     "output_type": "stream",
     "text": [
      "/Users/ensamba/BCB546X-Fall2017/python-bcb546\n"
     ]
    }
   ],
   "source": [
    "cd python-bcb546/"
   ]
  },
  {
   "cell_type": "code",
   "execution_count": 16,
   "metadata": {},
   "outputs": [
    {
     "name": "stdout",
     "output_type": "stream",
     "text": [
      "Indexing, slicing and subsetting in python.ipynb\r\n",
      "Learning those codes again.ipynb\r\n",
      "Pandas-lesson-01-TAH.ipynb\r\n",
      "README.md\r\n",
      "Trial_work.ipynb\r\n",
      "ensamba_seaborn.ipynb\r\n",
      "pandas-lesson-Week09-TAH.ipynb\r\n",
      "\u001b[34mpython\u001b[m\u001b[m/\r\n",
      "\u001b[34mscripts\u001b[m\u001b[m/\r\n",
      "species.csv\r\n",
      "surveys.csv\r\n",
      "surveys_complete.csv\r\n"
     ]
    }
   ],
   "source": [
    "ls"
   ]
  },
  {
   "cell_type": "code",
   "execution_count": 20,
   "metadata": {},
   "outputs": [
    {
     "name": "stdout",
     "output_type": "stream",
     "text": [
      "Indexing, slicing and subsetting in python.ipynb\r\n",
      "Learning those codes again.ipynb\r\n",
      "Pandas-lesson-01-TAH.ipynb\r\n",
      "README.md\r\n",
      "Trial_work.ipynb\r\n",
      "ensamba_seaborn.ipynb\r\n",
      "pandas-lesson-Week09-TAH.ipynb\r\n",
      "\u001b[34mpython\u001b[m\u001b[m/\r\n",
      "\u001b[34mscripts\u001b[m\u001b[m/\r\n",
      "species.csv\r\n",
      "surveys.csv\r\n",
      "surveys_complete.csv\r\n"
     ]
    }
   ],
   "source": [
    " ls"
   ]
  },
  {
   "cell_type": "code",
   "execution_count": null,
   "metadata": {
    "collapsed": true
   },
   "outputs": [],
   "source": []
  }
 ],
 "metadata": {
  "kernelspec": {
   "display_name": "Python 3",
   "language": "python",
   "name": "python3"
  },
  "language_info": {
   "codemirror_mode": {
    "name": "ipython",
    "version": 3
   },
   "file_extension": ".py",
   "mimetype": "text/x-python",
   "name": "python",
   "nbconvert_exporter": "python",
   "pygments_lexer": "ipython3",
   "version": "3.6.2"
  }
 },
 "nbformat": 4,
 "nbformat_minor": 2
}
